{
 "cells": [
  {
   "cell_type": "code",
   "execution_count": null,
   "id": "99ee2be5",
   "metadata": {},
   "outputs": [],
   "source": [
    "#loan analyzer"
   ]
  },
  {
   "cell_type": "code",
   "execution_count": null,
   "id": "0638252a",
   "metadata": {},
   "outputs": [],
   "source": [
    "import csv\n",
    "from pathlib import Path\n",
    "from typing import NewType"
   ]
  },
  {
   "cell_type": "code",
   "execution_count": null,
   "id": "64070adb",
   "metadata": {},
   "outputs": [],
   "source": [
    "#To start of, we want to Automate the calculations for the loans.\n",
    "#First, we will look at the total number of loans in the list.\n",
    "#Second, we will look at the sum of all the loans in the list.\n",
    "#Third, we will look at the average laon price in the list.\n",
    "#REMINDER - the simpler the code, the easier it is for yourself.\n",
    "#REMINDER pt.2 - we don't know what the currency of the loans are, so leave the numbers as they are."
   ]
  },
  {
   "cell_type": "code",
   "execution_count": 53,
   "id": "27fa8790",
   "metadata": {},
   "outputs": [
    {
     "name": "stdout",
     "output_type": "stream",
     "text": [
      "5\n",
      "2750\n",
      "How many loans? 5\n"
     ]
    }
   ],
   "source": [
    "loan_costs = [500, 600, 200, 1000, 450]\n",
    "avg = sum(loan_costs)/len(loan_costs)\n",
    "len(loan_costs)\n",
    "number_of_loans = len(loan_costs)\n",
    "print(number_of_loans)\n",
    "print(sum(loan_costs))\n",
    "Num = int(input(\"How many loans?\"))\n",
    "total_sum = 5"
   ]
  },
  {
   "cell_type": "code",
   "execution_count": 44,
   "id": "34ccf244",
   "metadata": {},
   "outputs": [
    {
     "name": "stdout",
     "output_type": "stream",
     "text": [
      "Average is 550.0\n"
     ]
    }
   ],
   "source": [
    "print(\"Average is\", avg)"
   ]
  },
  {
   "cell_type": "code",
   "execution_count": null,
   "id": "e965dbb3",
   "metadata": {},
   "outputs": [],
   "source": [
    "#In this second part, we're going to analyze the loan to determin the investment evaluation.\n",
    "#First, look at the formulas for present value: \n",
    "    #present value = future value/(1+Discount Rate)**Time\n",
    "    #present value = future value/(1+annual_discount_rate/12)**months"
   ]
  },
  {
   "cell_type": "code",
   "execution_count": 20,
   "id": "be87a024",
   "metadata": {},
   "outputs": [
    {
     "name": "stdout",
     "output_type": "stream",
     "text": [
      "The furure of the loan is: 1000\n",
      "The remaining months of the loan is: 9\n",
      "The present value of the loan is:$ 861.77\n",
      "The loan is at least woth the cost to buy it.\n"
     ]
    }
   ],
   "source": [
    "loan = {\n",
    "    \"loan_price\": 500,\n",
    "    \"remaining_months\": 9,\n",
    "    \"repayment_interval\": \"bullet\",\n",
    "    \"future_value\": 1000,\n",
    "}\n",
    "future_value = loan.get(\"future_value\")\n",
    "remaining_months = loan.get(\"remaining_months\")\n",
    "print(f\"The furure of the loan is: {future_value}\")\n",
    "print(f\"The remaining months of the loan is: {remaining_months}\")\n",
    "\n",
    "discount_rate = .2\n",
    "loan_present_value = future_value / ((1+(discount_rate/12)) ** remaining_months)\n",
    "print(f\"The present value of the loan is:${loan_present_value: .2f}\")\n",
    "\n",
    "#If Present Value represents what the loan really is worth, does it make sense to buy the loan at it's current price?\n",
    "\n",
    "current_loan_price = loan.get(\"loan_price\")\n",
    "if loan_present_value >= current_loan_price:\n",
    "    print(\"The loan is at least woth the cost to buy it.\")\n",
    "else:\n",
    "    print(\"The loan is too expensive and not worth the price.\")"
   ]
  },
  {
   "cell_type": "code",
   "execution_count": 19,
   "id": "041bf778",
   "metadata": {},
   "outputs": [],
   "source": [
    "#In this third part, we're going to perform financial calculation.\n",
    "#First, define a new function that will be used to calculate present value.\n",
    "#Second, use the function to calculate the present value of the new loan given below.\n",
    "#Use the following data assinged new_loan to assist with the calculation.\n",
    "#Use an annual_discount_rate of 0.2 with the new calculation."
   ]
  },
  {
   "cell_type": "code",
   "execution_count": 25,
   "id": "afff5896",
   "metadata": {},
   "outputs": [
    {
     "name": "stdout",
     "output_type": "stream",
     "text": [
      "The future of the loan is: 1000\n",
      "The remaining months of the loan is: 16\n",
      "The present value of the loan is:$ 861.77\n",
      "The Loan is too expensive and not woth the price.\n",
      "The present value of the loan is:$ 861.77\n"
     ]
    }
   ],
   "source": [
    "new_loan = {\n",
    "    \"loan_price\": 800,\n",
    "    \"remaining_months\": 12,\n",
    "    \"repayment_interval\": \"bullet\",\n",
    "    \"future_value\": 1000,\n",
    "}\n",
    "\n",
    "future_value = loan.get(\"future_value\")\n",
    "remaining_months = loan.get(\"remaining_months\")\n",
    "print(f\"The future of the loan is: {future_value}\")\n",
    "print(f\"The remaining months of the loan is: {remaining_months}\")\n",
    "\n",
    "discount_rate = .2\n",
    "present_value = future_value / ((1 + (discount_rate/12))** remaining_months)\n",
    "print(f\"The present value of the loan is:${loan_present_value: .2f}\")\n",
    "\n",
    "current_loan_price = loan.get(\"loan_price\")\n",
    "if loan_present_value >= current_loan_price:\n",
    "    print(\"The Loan is at least worth the cost to buy it.\")\n",
    "else:\n",
    "    print(\"The Loan is too expensive and not woth the price.\")\n",
    "print(f\"The present value of the loan is:${loan_present_value: .2f}\")"
   ]
  },
  {
   "cell_type": "code",
   "execution_count": null,
   "id": "7a93ebed",
   "metadata": {},
   "outputs": [],
   "source": [
    "#In this fourth part, we're going to conditionally filter lists of loans.\n",
    "#First, we want to use a loop to iterate through a series of loans and select only the inexpensive loans.\n",
    "    #Make sure to do two things:\n",
    "        #Inside the for loop, write an if-statement to determine if the loan_price is less than 500\n",
    "        #If the loan_price is less than 500 then append that loan to the `inexpensive_loans` list.\n",
    "#Second, print the list of inexpensive loans."
   ]
  },
  {
   "cell_type": "code",
   "execution_count": 24,
   "id": "fc454605",
   "metadata": {
    "tags": []
   },
   "outputs": [
    {
     "name": "stdout",
     "output_type": "stream",
     "text": [
      "The list of inexpensive loans is: [{'loan_price': 500, 'remaining_months': 13, 'repayment_interval': 'bullet', 'future_value': 1000}, {'loan_price': 200, 'remaining_months': 16, 'repayment_interval': 'bullet', 'future_value': 1000}]\n"
     ]
    }
   ],
   "source": [
    "loans = [\n",
    "    {\n",
    "        \"loan_price\": 700,\n",
    "        \"remaining_months\": 9,\n",
    "        \"repayment_interval\": \"monthly\",\n",
    "        \"future_value\": 1000,\n",
    "    },\n",
    "    {\n",
    "        \"loan_price\": 500,\n",
    "        \"remaining_months\": 13,\n",
    "        \"repayment_interval\": \"bullet\",\n",
    "        \"future_value\": 1000,\n",
    "    },\n",
    "    {\n",
    "        \"loan_price\": 200,\n",
    "        \"remaining_months\": 16,\n",
    "        \"repayment_interval\": \"bullet\",\n",
    "        \"future_value\": 1000,\n",
    "    },\n",
    "    {\n",
    "        \"loan_price\": 900,\n",
    "        \"remaining_months\": 16,\n",
    "        \"repayment_interval\": \"bullet\",\n",
    "        \"future_value\": 1000,\n",
    "    },\n",
    "]\n",
    "\n",
    "inexpensive_loans = []\n",
    "for loan in loans:\n",
    "    if loan[\"loan_price\"] <= 500:\n",
    "        inexpensive_loans.append(loan)\n",
    "print(\"The list of inexpensive loans is:\",inexpensive_loans)"
   ]
  },
  {
   "cell_type": "code",
   "execution_count": 258,
   "id": "5d29ccf6",
   "metadata": {},
   "outputs": [],
   "source": [
    "#Done!   "
   ]
  }
 ],
 "metadata": {
  "kernelspec": {
   "display_name": "Python 3",
   "language": "python",
   "name": "python3"
  },
  "language_info": {
   "codemirror_mode": {
    "name": "ipython",
    "version": 3
   },
   "file_extension": ".py",
   "mimetype": "text/x-python",
   "name": "python",
   "nbconvert_exporter": "python",
   "pygments_lexer": "ipython3",
   "version": "3.8.8"
  }
 },
 "nbformat": 4,
 "nbformat_minor": 5
}
